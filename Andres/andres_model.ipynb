{
 "cells": [
  {
   "cell_type": "markdown",
   "metadata": {},
   "source": [
    "Checking For GPU Support"
   ]
  },
  {
   "cell_type": "code",
   "execution_count": 72,
   "metadata": {},
   "outputs": [
    {
     "name": "stdout",
     "output_type": "stream",
     "text": [
      "TensorFlow version: 2.10.0\n",
      "Num GPUs Available:  1\n"
     ]
    }
   ],
   "source": [
    "# Importing necessary libraries for the project\n",
    "import tensorflow as tf\n",
    "print(\"TensorFlow version:\", tf.__version__)\n",
    "\n",
    "# Checking the number of available GPUs\n",
    "import tensorflow as tf\n",
    "print(\"Num GPUs Available: \", len(tf.config.experimental.list_physical_devices('GPU')))"
   ]
  },
  {
   "cell_type": "markdown",
   "metadata": {},
   "source": [
    "Importing Libraries"
   ]
  },
  {
   "cell_type": "code",
   "execution_count": 73,
   "metadata": {},
   "outputs": [],
   "source": [
    "# Importing other essential libraries\n",
    "import pandas as pd\n",
    "import numpy as np\n",
    "import matplotlib.pyplot as plt\n",
    "import seaborn as sns\n",
    "import plotly.express as px\n",
    "from keras import models, layers, optimizers, callbacks\n",
    "from keras.utils import to_categorical\n",
    "from sklearn.metrics import confusion_matrix, classification_report\n",
    "from tensorflow.keras.preprocessing.image import ImageDataGenerator\n",
    "from tensorflow.keras.preprocessing import image\n",
    "from tensorflow.keras.applications.densenet import preprocess_input\n",
    "from keras.regularizers import l2"
   ]
  },
  {
   "cell_type": "markdown",
   "metadata": {},
   "source": [
    "Loading and Preprocessing Data"
   ]
  },
  {
   "cell_type": "code",
   "execution_count": 74,
   "metadata": {},
   "outputs": [
    {
     "data": {
      "text/html": [
       "<div>\n",
       "<style scoped>\n",
       "    .dataframe tbody tr th:only-of-type {\n",
       "        vertical-align: middle;\n",
       "    }\n",
       "\n",
       "    .dataframe tbody tr th {\n",
       "        vertical-align: top;\n",
       "    }\n",
       "\n",
       "    .dataframe thead th {\n",
       "        text-align: right;\n",
       "    }\n",
       "</style>\n",
       "<table border=\"1\" class=\"dataframe\">\n",
       "  <thead>\n",
       "    <tr style=\"text-align: right;\">\n",
       "      <th></th>\n",
       "      <th>emotion</th>\n",
       "      <th>pixels</th>\n",
       "      <th>Usage</th>\n",
       "    </tr>\n",
       "  </thead>\n",
       "  <tbody>\n",
       "    <tr>\n",
       "      <th>0</th>\n",
       "      <td>0</td>\n",
       "      <td>70 80 82 72 58 58 60 63 54 58 60 48 89 115 121...</td>\n",
       "      <td>Training</td>\n",
       "    </tr>\n",
       "    <tr>\n",
       "      <th>1</th>\n",
       "      <td>0</td>\n",
       "      <td>151 150 147 155 148 133 111 140 170 174 182 15...</td>\n",
       "      <td>Training</td>\n",
       "    </tr>\n",
       "    <tr>\n",
       "      <th>2</th>\n",
       "      <td>2</td>\n",
       "      <td>231 212 156 164 174 138 161 173 182 200 106 38...</td>\n",
       "      <td>Training</td>\n",
       "    </tr>\n",
       "    <tr>\n",
       "      <th>3</th>\n",
       "      <td>4</td>\n",
       "      <td>24 32 36 30 32 23 19 20 30 41 21 22 32 34 21 1...</td>\n",
       "      <td>Training</td>\n",
       "    </tr>\n",
       "    <tr>\n",
       "      <th>4</th>\n",
       "      <td>6</td>\n",
       "      <td>4 0 0 0 0 0 0 0 0 0 0 0 3 15 23 28 48 50 58 84...</td>\n",
       "      <td>Training</td>\n",
       "    </tr>\n",
       "  </tbody>\n",
       "</table>\n",
       "</div>"
      ],
      "text/plain": [
       "   emotion                                             pixels     Usage\n",
       "0        0  70 80 82 72 58 58 60 63 54 58 60 48 89 115 121...  Training\n",
       "1        0  151 150 147 155 148 133 111 140 170 174 182 15...  Training\n",
       "2        2  231 212 156 164 174 138 161 173 182 200 106 38...  Training\n",
       "3        4  24 32 36 30 32 23 19 20 30 41 21 22 32 34 21 1...  Training\n",
       "4        6  4 0 0 0 0 0 0 0 0 0 0 0 3 15 23 28 48 50 58 84...  Training"
      ]
     },
     "execution_count": 74,
     "metadata": {},
     "output_type": "execute_result"
    }
   ],
   "source": [
    "# Loading the dataset\n",
    "data = pd.read_csv(\"data_csv/fer.csv\")\n",
    "\n",
    "# Displaying the first few rows of the dataset\n",
    "data.head()"
   ]
  },
  {
   "cell_type": "code",
   "execution_count": 75,
   "metadata": {},
   "outputs": [
    {
     "name": "stdout",
     "output_type": "stream",
     "text": [
      "(35887, 3)\n",
      "Index(['emotion', 'pixels', 'Usage'], dtype='object')\n"
     ]
    }
   ],
   "source": [
    "# Checking the shape and columns of the dataset\n",
    "print(data.shape)\n",
    "print(data.columns)"
   ]
  },
  {
   "cell_type": "code",
   "execution_count": 76,
   "metadata": {},
   "outputs": [
    {
     "data": {
      "text/plain": [
       "Usage\n",
       "Training       28709\n",
       "PublicTest      3589\n",
       "PrivateTest     3589\n",
       "Name: count, dtype: int64"
      ]
     },
     "execution_count": 76,
     "metadata": {},
     "output_type": "execute_result"
    }
   ],
   "source": [
    "# Counting the different usage types in the dataset\n",
    "data[\"Usage\"].value_counts()"
   ]
  },
  {
   "cell_type": "code",
   "execution_count": 77,
   "metadata": {},
   "outputs": [
    {
     "name": "stdout",
     "output_type": "stream",
     "text": [
      "(28709, 3)\n",
      "(3589, 3)\n",
      "(3589, 3)\n"
     ]
    }
   ],
   "source": [
    "# Splitting the dataset into training, public test, and private test sets\n",
    "training = data.loc[data[\"Usage\"] == \"Training\"]\n",
    "public_test = data.loc[data[\"Usage\"] == \"PublicTest\"]\n",
    "private_test = data.loc[data[\"Usage\"] == \"PrivateTest\"]\n",
    "\n",
    "# Displaying the shapes of the splits\n",
    "print(training.shape)\n",
    "print(public_test.shape)\n",
    "print(private_test.shape)"
   ]
  },
  {
   "cell_type": "code",
   "execution_count": 78,
   "metadata": {},
   "outputs": [],
   "source": [
    "# Preparing training labels and converting them to categorical format\n",
    "train_labels = training[\"emotion\"]\n",
    "train_labels = to_categorical(train_labels)"
   ]
  },
  {
   "cell_type": "code",
   "execution_count": 79,
   "metadata": {},
   "outputs": [],
   "source": [
    "# Preparing training images\n",
    "train_pixels = training[\"pixels\"].str.split(\" \").tolist()\n",
    "train_pixels = np.uint8(train_pixels)\n",
    "train_pixels = train_pixels.reshape((28709, 48, 48, 1))\n",
    "train_pixels = train_pixels.astype(\"float32\") / 255"
   ]
  },
  {
   "cell_type": "code",
   "execution_count": 80,
   "metadata": {},
   "outputs": [],
   "source": [
    "# Preparing private test labels and converting them to categorical format\n",
    "private_labels = private_test[\"emotion\"]\n",
    "private_labels = to_categorical(private_labels)"
   ]
  },
  {
   "cell_type": "code",
   "execution_count": 81,
   "metadata": {},
   "outputs": [],
   "source": [
    "\n",
    "# Preparing private test images\n",
    "private_pixels = private_test[\"pixels\"].str.split(\" \").tolist()\n",
    "private_pixels = np.uint8(private_pixels)\n",
    "private_pixels = private_pixels.reshape((3589, 48, 48, 1))\n",
    "private_pixels = private_pixels.astype(\"float32\") / 255"
   ]
  },
  {
   "cell_type": "code",
   "execution_count": 82,
   "metadata": {},
   "outputs": [],
   "source": [
    "# Preparing public test labels and converting them to categorical format\n",
    "public_labels = public_test[\"emotion\"]\n",
    "public_labels = to_categorical(public_labels)"
   ]
  },
  {
   "cell_type": "code",
   "execution_count": 83,
   "metadata": {},
   "outputs": [],
   "source": [
    "\n",
    "# Preparing public test images\n",
    "public_pixels = public_test[\"pixels\"].str.split(\" \").tolist()\n",
    "public_pixels = np.uint8(public_pixels)\n",
    "public_pixels = public_pixels.reshape((3589, 48, 48, 1))\n",
    "public_pixels = public_pixels.astype(\"float32\") / 255"
   ]
  },
  {
   "cell_type": "markdown",
   "metadata": {},
   "source": [
    "Visualizing Sample Images"
   ]
  },
  {
   "cell_type": "code",
   "execution_count": 84,
   "metadata": {},
   "outputs": [
    {
     "data": {
      "image/png": "[encoded data removed]",
      "text/plain": [
       "<Figure size 1200x600 with 12 Axes>"
      ]
     },
     "metadata": {},
     "output_type": "display_data"
    }
   ],
   "source": [
    "# Plotting some sample images from the training dataset\n",
    "plt.figure(0, figsize=(12,6))\n",
    "for i in range(1, 13):\n",
    "    plt.subplot(3, 4, i)\n",
    "    plt.imshow(train_pixels[i, :, :, 0], cmap=\"gray\")\n",
    "\n",
    "plt.tight_layout()\n",
    "plt.show()"
   ]
  },
  {
   "cell_type": "markdown",
   "metadata": {},
   "source": [
    "Data Augmentation"
   ]
  },
  {
   "cell_type": "code",
   "execution_count": 85,
   "metadata": {},
   "outputs": [],
   "source": [
    "# Setting up data augmentation\n",
    "datagen = ImageDataGenerator(\n",
    "    rotation_range=15,\n",
    "    width_shift_range=0.1,\n",
    "    height_shift_range=0.1,\n",
    "    horizontal_flip=True\n",
    ")\n",
    "datagen.fit(train_pixels)"
   ]
  },
  {
   "cell_type": "markdown",
   "metadata": {},
   "source": [
    "Building the CNN Model"
   ]
  },
  {
   "cell_type": "code",
   "execution_count": 86,
   "metadata": {},
   "outputs": [
    {
     "name": "stdout",
     "output_type": "stream",
     "text": [
      "Model: \"sequential_3\"\n",
      "_________________________________________________________________\n",
      " Layer (type)                Output Shape              Param #   \n",
      "=================================================================\n",
      " conv2d_15 (Conv2D)          (None, 44, 44, 64)        1664      \n",
      "                                                                 \n",
      " batch_normalization_7 (Batc  (None, 44, 44, 64)       256       \n",
      " hNormalization)                                                 \n",
      "                                                                 \n",
      " max_pooling2d_3 (MaxPooling  (None, 20, 20, 64)       0         \n",
      " 2D)                                                             \n",
      "                                                                 \n",
      " conv2d_16 (Conv2D)          (None, 18, 18, 64)        36928     \n",
      "                                                                 \n",
      " batch_normalization_8 (Batc  (None, 18, 18, 64)       256       \n",
      " hNormalization)                                                 \n",
      "                                                                 \n",
      " conv2d_17 (Conv2D)          (None, 16, 16, 64)        36928     \n",
      "                                                                 \n",
      " batch_normalization_9 (Batc  (None, 16, 16, 64)       256       \n",
      " hNormalization)                                                 \n",
      "                                                                 \n",
      " average_pooling2d_6 (Averag  (None, 7, 7, 64)         0         \n",
      " ePooling2D)                                                     \n",
      "                                                                 \n",
      " conv2d_18 (Conv2D)          (None, 5, 5, 128)         73856     \n",
      "                                                                 \n",
      " batch_normalization_10 (Bat  (None, 5, 5, 128)        512       \n",
      " chNormalization)                                                \n",
      "                                                                 \n",
      " conv2d_19 (Conv2D)          (None, 3, 3, 128)         147584    \n",
      "                                                                 \n",
      " batch_normalization_11 (Bat  (None, 3, 3, 128)        512       \n",
      " chNormalization)                                                \n",
      "                                                                 \n",
      " average_pooling2d_7 (Averag  (None, 1, 1, 128)        0         \n",
      " ePooling2D)                                                     \n",
      "                                                                 \n",
      " flatten_3 (Flatten)         (None, 128)               0         \n",
      "                                                                 \n",
      " dense_9 (Dense)             (None, 1024)              132096    \n",
      "                                                                 \n",
      " dropout_6 (Dropout)         (None, 1024)              0         \n",
      "                                                                 \n",
      " batch_normalization_12 (Bat  (None, 1024)             4096      \n",
      " chNormalization)                                                \n",
      "                                                                 \n",
      " dense_10 (Dense)            (None, 1024)              1049600   \n",
      "                                                                 \n",
      " dropout_7 (Dropout)         (None, 1024)              0         \n",
      "                                                                 \n",
      " batch_normalization_13 (Bat  (None, 1024)             4096      \n",
      " chNormalization)                                                \n",
      "                                                                 \n",
      " dense_11 (Dense)            (None, 7)                 7175      \n",
      "                                                                 \n",
      "=================================================================\n",
      "Total params: 1,495,815\n",
      "Trainable params: 1,490,823\n",
      "Non-trainable params: 4,992\n",
      "_________________________________________________________________\n"
     ]
    }
   ],
   "source": [
    "# Initializing a sequential model\n",
    "model_1 = models.Sequential()\n",
    "\n",
    "# Adding convolutional, pooling, and batch normalization layers\n",
    "model_1.add(layers.Conv2D(64, (5, 5), activation='relu', input_shape=(48, 48, 1), kernel_regularizer=l2(0.01)))\n",
    "model_1.add(layers.BatchNormalization())\n",
    "model_1.add(layers.MaxPooling2D(pool_size=(5, 5), strides=(2, 2)))\n",
    "\n",
    "model_1.add(layers.Conv2D(64, (3, 3), activation='relu', kernel_regularizer=l2(0.01)))\n",
    "model_1.add(layers.BatchNormalization())\n",
    "model_1.add(layers.Conv2D(64, (3, 3), activation='relu', kernel_regularizer=l2(0.01)))\n",
    "model_1.add(layers.BatchNormalization())\n",
    "model_1.add(layers.AveragePooling2D(pool_size=(3, 3), strides=(2, 2)))\n",
    "\n",
    "model_1.add(layers.Conv2D(128, (3, 3), activation='relu', kernel_regularizer=l2(0.01)))\n",
    "model_1.add(layers.BatchNormalization())\n",
    "model_1.add(layers.Conv2D(128, (3, 3), activation='relu', kernel_regularizer=l2(0.01)))\n",
    "model_1.add(layers.BatchNormalization())\n",
    "model_1.add(layers.AveragePooling2D(pool_size=(3, 3), strides=(2, 2)))\n",
    "\n",
    "model_1.add(layers.Flatten())\n",
    "model_1.add(layers.Dense(1024, activation='relu', kernel_regularizer=l2(0.01)))\n",
    "model_1.add(layers.Dropout(0.2))\n",
    "model_1.add(layers.BatchNormalization())\n",
    "model_1.add(layers.Dense(1024, activation='relu', kernel_regularizer=l2(0.01)))\n",
    "model_1.add(layers.Dropout(0.2))\n",
    "model_1.add(layers.BatchNormalization())\n",
    "model_1.add(layers.Dense(7, activation='softmax'))\n",
    "\n",
    "# Displaying the model summary\n",
    "model_1.summary()"
   ]
  },
  {
   "cell_type": "markdown",
   "metadata": {},
   "source": [
    "Compiling the Model"
   ]
  },
  {
   "cell_type": "code",
   "execution_count": 87,
   "metadata": {},
   "outputs": [],
   "source": [
    "# Compiling the model with Adam optimizer and categorical crossentropy loss\n",
    "model_1.compile(optimizer=\"Adam\", loss=\"categorical_crossentropy\", metrics=[\"accuracy\"])"
   ]
  },
  {
   "cell_type": "markdown",
   "metadata": {},
   "source": [
    "Adding Callbacks"
   ]
  },
  {
   "cell_type": "code",
   "execution_count": 88,
   "metadata": {},
   "outputs": [],
   "source": [
    "# Learning rate scheduler function\n",
    "def lr_schedule(epoch):\n",
    "    initial_lr = 0.001\n",
    "    if epoch > 15:\n",
    "        return initial_lr * 0.1\n",
    "    elif epoch > 10:\n",
    "        return initial_lr * 0.5\n",
    "    return initial_lr\n",
    "\n",
    "# Defining callbacks\n",
    "lr_scheduler = callbacks.LearningRateScheduler(lr_schedule)\n",
    "early_stopping = callbacks.EarlyStopping(monitor='val_loss', patience=5, restore_best_weights=True)\n",
    "model_checkpoint = callbacks.ModelCheckpoint('model/andres_best_model.keras', monitor='val_loss', save_best_only=True)\n"
   ]
  },
  {
   "cell_type": "markdown",
   "metadata": {},
   "source": [
    "Training the Model"
   ]
  },
  {
   "cell_type": "code",
   "execution_count": 89,
   "metadata": {},
   "outputs": [
    {
     "name": "stdout",
     "output_type": "stream",
     "text": [
      "Epoch 1/50\n",
      "113/113 [==============================] - 5s 37ms/step - loss: 11.4253 - accuracy: 0.2773 - val_loss: 6.1957 - val_accuracy: 0.1655 - lr: 0.0010\n",
      "Epoch 2/50\n",
      "113/113 [==============================] - 4s 36ms/step - loss: 4.0941 - accuracy: 0.3999 - val_loss: 3.1820 - val_accuracy: 0.1655 - lr: 0.0010\n",
      "Epoch 3/50\n",
      "113/113 [==============================] - 4s 35ms/step - loss: 2.4376 - accuracy: 0.4357 - val_loss: 2.4744 - val_accuracy: 0.1655 - lr: 0.0010\n",
      "Epoch 4/50\n",
      "113/113 [==============================] - 4s 35ms/step - loss: 1.9683 - accuracy: 0.4624 - val_loss: 2.1707 - val_accuracy: 0.3174 - lr: 0.0010\n",
      "Epoch 5/50\n",
      "113/113 [==============================] - 4s 35ms/step - loss: 1.8948 - accuracy: 0.4654 - val_loss: 2.2989 - val_accuracy: 0.2449 - lr: 0.0010\n",
      "Epoch 6/50\n",
      "113/113 [==============================] - 4s 35ms/step - loss: 1.8460 - accuracy: 0.4820 - val_loss: 2.0047 - val_accuracy: 0.4483 - lr: 0.0010\n",
      "Epoch 7/50\n",
      "113/113 [==============================] - 4s 36ms/step - loss: 1.7825 - accuracy: 0.4833 - val_loss: 1.8828 - val_accuracy: 0.4500 - lr: 0.0010\n",
      "Epoch 8/50\n",
      "113/113 [==============================] - 4s 35ms/step - loss: 1.7548 - accuracy: 0.4914 - val_loss: 1.8812 - val_accuracy: 0.4154 - lr: 0.0010\n",
      "Epoch 9/50\n",
      "113/113 [==============================] - 4s 34ms/step - loss: 1.7653 - accuracy: 0.4930 - val_loss: 2.3350 - val_accuracy: 0.2694 - lr: 0.0010\n",
      "Epoch 10/50\n",
      "113/113 [==============================] - 4s 34ms/step - loss: 1.7704 - accuracy: 0.4888 - val_loss: 2.1051 - val_accuracy: 0.3274 - lr: 0.0010\n",
      "Epoch 11/50\n",
      "113/113 [==============================] - 4s 35ms/step - loss: 1.6896 - accuracy: 0.5083 - val_loss: 1.8438 - val_accuracy: 0.4344 - lr: 0.0010\n",
      "Epoch 12/50\n",
      "113/113 [==============================] - 4s 34ms/step - loss: 1.5973 - accuracy: 0.5261 - val_loss: 6.3109 - val_accuracy: 0.2112 - lr: 5.0000e-04\n",
      "Epoch 13/50\n",
      "113/113 [==============================] - 4s 35ms/step - loss: 1.5095 - accuracy: 0.5357 - val_loss: 1.5891 - val_accuracy: 0.5311 - lr: 5.0000e-04\n",
      "Epoch 14/50\n",
      "113/113 [==============================] - 4s 36ms/step - loss: 1.4891 - accuracy: 0.5417 - val_loss: 1.5499 - val_accuracy: 0.5155 - lr: 5.0000e-04\n",
      "Epoch 15/50\n",
      "113/113 [==============================] - 8s 67ms/step - loss: 1.4461 - accuracy: 0.5511 - val_loss: 1.5148 - val_accuracy: 0.5286 - lr: 5.0000e-04\n",
      "Epoch 16/50\n",
      "113/113 [==============================] - 4s 35ms/step - loss: 1.4271 - accuracy: 0.5512 - val_loss: 1.4414 - val_accuracy: 0.5425 - lr: 5.0000e-04\n",
      "Epoch 17/50\n",
      "113/113 [==============================] - 4s 35ms/step - loss: 1.3447 - accuracy: 0.5812 - val_loss: 1.3239 - val_accuracy: 0.5798 - lr: 1.0000e-04\n",
      "Epoch 18/50\n",
      "113/113 [==============================] - 4s 35ms/step - loss: 1.2723 - accuracy: 0.5981 - val_loss: 1.2469 - val_accuracy: 0.5979 - lr: 1.0000e-04\n",
      "Epoch 19/50\n",
      "113/113 [==============================] - 4s 34ms/step - loss: 1.2403 - accuracy: 0.6021 - val_loss: 1.2509 - val_accuracy: 0.5876 - lr: 1.0000e-04\n",
      "Epoch 20/50\n",
      "113/113 [==============================] - 4s 34ms/step - loss: 1.2157 - accuracy: 0.6040 - val_loss: 1.2247 - val_accuracy: 0.5848 - lr: 1.0000e-04\n",
      "Epoch 21/50\n",
      "113/113 [==============================] - 4s 34ms/step - loss: 1.2001 - accuracy: 0.6101 - val_loss: 1.2141 - val_accuracy: 0.5977 - lr: 1.0000e-04\n",
      "Epoch 22/50\n",
      "113/113 [==============================] - 4s 34ms/step - loss: 1.1827 - accuracy: 0.6110 - val_loss: 1.2233 - val_accuracy: 0.5868 - lr: 1.0000e-04\n",
      "Epoch 23/50\n",
      "113/113 [==============================] - 4s 34ms/step - loss: 1.1747 - accuracy: 0.6115 - val_loss: 1.1908 - val_accuracy: 0.6088 - lr: 1.0000e-04\n",
      "Epoch 24/50\n",
      "113/113 [==============================] - 4s 34ms/step - loss: 1.1580 - accuracy: 0.6175 - val_loss: 1.1954 - val_accuracy: 0.5988 - lr: 1.0000e-04\n",
      "Epoch 25/50\n",
      "113/113 [==============================] - 4s 33ms/step - loss: 1.1490 - accuracy: 0.6210 - val_loss: 1.1991 - val_accuracy: 0.5949 - lr: 1.0000e-04\n",
      "Epoch 26/50\n",
      "113/113 [==============================] - 4s 34ms/step - loss: 1.1452 - accuracy: 0.6216 - val_loss: 1.1972 - val_accuracy: 0.6102 - lr: 1.0000e-04\n",
      "Epoch 27/50\n",
      "113/113 [==============================] - 4s 35ms/step - loss: 1.1294 - accuracy: 0.6278 - val_loss: 1.2225 - val_accuracy: 0.5868 - lr: 1.0000e-04\n",
      "Epoch 28/50\n",
      "113/113 [==============================] - 4s 35ms/step - loss: 1.1224 - accuracy: 0.6240 - val_loss: 1.1800 - val_accuracy: 0.6110 - lr: 1.0000e-04\n",
      "Epoch 29/50\n",
      "113/113 [==============================] - 5s 48ms/step - loss: 1.1145 - accuracy: 0.6277 - val_loss: 1.2083 - val_accuracy: 0.5918 - lr: 1.0000e-04\n",
      "Epoch 30/50\n",
      "113/113 [==============================] - 7s 61ms/step - loss: 1.1065 - accuracy: 0.6328 - val_loss: 1.1633 - val_accuracy: 0.6241 - lr: 1.0000e-04\n",
      "Epoch 31/50\n",
      "113/113 [==============================] - 4s 35ms/step - loss: 1.0998 - accuracy: 0.6363 - val_loss: 1.1802 - val_accuracy: 0.6007 - lr: 1.0000e-04\n",
      "Epoch 32/50\n",
      "113/113 [==============================] - 4s 35ms/step - loss: 1.0954 - accuracy: 0.6380 - val_loss: 1.1510 - val_accuracy: 0.6174 - lr: 1.0000e-04\n",
      "Epoch 33/50\n",
      "113/113 [==============================] - 4s 35ms/step - loss: 1.0916 - accuracy: 0.6376 - val_loss: 1.1537 - val_accuracy: 0.6219 - lr: 1.0000e-04\n",
      "Epoch 34/50\n",
      "113/113 [==============================] - 4s 35ms/step - loss: 1.0773 - accuracy: 0.6440 - val_loss: 1.1685 - val_accuracy: 0.6138 - lr: 1.0000e-04\n",
      "Epoch 35/50\n",
      "113/113 [==============================] - 4s 34ms/step - loss: 1.0762 - accuracy: 0.6432 - val_loss: 1.2082 - val_accuracy: 0.6052 - lr: 1.0000e-04\n",
      "Epoch 36/50\n",
      "113/113 [==============================] - 4s 34ms/step - loss: 1.0727 - accuracy: 0.6464 - val_loss: 1.1893 - val_accuracy: 0.6046 - lr: 1.0000e-04\n",
      "Epoch 37/50\n",
      "113/113 [==============================] - 4s 35ms/step - loss: 1.0707 - accuracy: 0.6438 - val_loss: 1.1948 - val_accuracy: 0.6116 - lr: 1.0000e-04\n"
     ]
    }
   ],
   "source": [
    "# Training the model with data augmentation and callbacks\n",
    "history = model_1.fit(datagen.flow(train_pixels, train_labels, batch_size=256), \n",
    "                      epochs=50, \n",
    "                      validation_data=(private_pixels, private_labels), \n",
    "                      callbacks=[lr_scheduler, early_stopping, model_checkpoint])"
   ]
  },
  {
   "cell_type": "markdown",
   "metadata": {},
   "source": [
    "Plotting Training and Validation Metrics"
   ]
  },
  {
   "cell_type": "code",
   "execution_count": 90,
   "metadata": {},
   "outputs": [
    {
     "data": {
      "application/vnd.plotly.v1+json": {
       "config": {
        "plotlyServerURL": "https://plot.ly"
       },
       "data": [
        {
         "hovertemplate": "variable=accuracy<br>index=%{x}<br>value=%{y}<extra></extra>",
         "legendgroup": "accuracy",
         "line": {
          "color": "#636efa",
          "dash": "solid"
         },
         "marker": {
          "symbol": "circle"
         },
         "mode": "lines+markers",
         "name": "accuracy",
         "orientation": "v",
         "showlegend": true,
         "type": "scatter",
         "x": [
          0,
          1,
          2,
          3,
          4,
          5,
          6,
          7,
          8,
          9,
          10,
          11,
          12,
          13,
          14,
          15,
          16,
          17,
          18,
          19,
          20,
          21,
          22,
          23,
          24,
          25,
          26,
          27,
          28,
          29,
          30,
          31,
          32,
          33,
          34,
          35,
          36
         ],
         "xaxis": "x",
         "y": [
          0.2772649824619293,
          0.3999442756175995,
          0.43571701645851135,
          0.46239855885505676,
          0.46539413928985596,
          0.48204395174980164,
          0.4832630753517151,
          0.49141383171081543,
          0.4930161237716675,
          0.48883625864982605,
          0.508272647857666,
          0.5261067748069763,
          0.5356508493423462,
          0.5417464971542358,
          0.5511163473129272,
          0.5511860251426697,
          0.5811766386032104,
          0.5980702638626099,
          0.6021456718444824,
          0.6040266156196594,
          0.6100874543190002,
          0.6109582185745239,
          0.611480712890625,
          0.6175066828727722,
          0.6210247874259949,
          0.6216168999671936,
          0.6277822256088257,
          0.6239855289459229,
          0.6276777386665344,
          0.6327980756759644,
          0.6363161206245422,
          0.6379532814025879,
          0.6376049518585205,
          0.6440140604972839,
          0.6431781053543091,
          0.6463826894760132,
          0.6438050866127014
         ],
         "yaxis": "y"
        },
        {
         "hovertemplate": "variable=val_accuracy<br>index=%{x}<br>value=%{y}<extra></extra>",
         "legendgroup": "val_accuracy",
         "line": {
          "color": "#EF553B",
          "dash": "solid"
         },
         "marker": {
          "symbol": "circle"
         },
         "mode": "lines+markers",
         "name": "val_accuracy",
         "orientation": "v",
         "showlegend": true,
         "type": "scatter",
         "x": [
          0,
          1,
          2,
          3,
          4,
          5,
          6,
          7,
          8,
          9,
          10,
          11,
          12,
          13,
          14,
          15,
          16,
          17,
          18,
          19,
          20,
          21,
          22,
          23,
          24,
          25,
          26,
          27,
          28,
          29,
          30,
          31,
          32,
          33,
          34,
          35,
          36
         ],
         "xaxis": "x",
         "y": [
          0.16550570726394653,
          0.16550570726394653,
          0.16550570726394653,
          0.3173585832118988,
          0.24491502344608307,
          0.44831427931785583,
          0.449986070394516,
          0.4154360592365265,
          0.26943439245224,
          0.3273892402648926,
          0.434382826089859,
          0.21120089292526245,
          0.5310671329498291,
          0.5154638886451721,
          0.5285595059394836,
          0.5424909591674805,
          0.5798272490501404,
          0.5979381203651428,
          0.5876288414001465,
          0.5848425626754761,
          0.5976595282554626,
          0.5867930054664612,
          0.6088047027587891,
          0.5987740159034729,
          0.5948732495307922,
          0.6101978421211243,
          0.5867930054664612,
          0.6110337376594543,
          0.5918083190917969,
          0.6241292953491211,
          0.600724458694458,
          0.6174421906471252,
          0.6219002604484558,
          0.6138200163841248,
          0.6051825284957886,
          0.6046252250671387,
          0.6115909814834595
         ],
         "yaxis": "y"
        }
       ],
       "layout": {
        "legend": {
         "title": {
          "text": "variable"
         },
         "tracegroupgap": 0
        },
        "margin": {
         "t": 60
        },
        "showlegend": true,
        "template": {
         "data": {
          "bar": [
           {
            "error_x": {
             "color": "#2a3f5f"
            },
            "error_y": {
             "color": "#2a3f5f"
            },
            "marker": {
             "line": {
              "color": "#E5ECF6",
              "width": 0.5
             },
             "pattern": {
              "fillmode": "overlay",
              "size": 10,
              "solidity": 0.2
             }
            },
            "type": "bar"
           }
          ],
          "barpolar": [
           {
            "marker": {
             "line": {
              "color": "#E5ECF6",
              "width": 0.5
             },
             "pattern": {
              "fillmode": "overlay",
              "size": 10,
              "solidity": 0.2
             }
            },
            "type": "barpolar"
           }
          ],
          "carpet": [
           {
            "aaxis": {
             "endlinecolor": "#2a3f5f",
             "gridcolor": "white",
             "linecolor": "white",
             "minorgridcolor": "white",
             "startlinecolor": "#2a3f5f"
            },
            "baxis": {
             "endlinecolor": "#2a3f5f",
             "gridcolor": "white",
             "linecolor": "white",
             "minorgridcolor": "white",
             "startlinecolor": "#2a3f5f"
            },
            "type": "carpet"
           }
          ],
          "choropleth": [
           {
            "colorbar": {
             "outlinewidth": 0,
             "ticks": ""
            },
            "type": "choropleth"
           }
          ],
          "contour": [
           {
            "colorbar": {
             "outlinewidth": 0,
             "ticks": ""
            },
            "colorscale": [
             [
              0,
              "#0d0887"
             ],
             [
              0.1111111111111111,
              "#46039f"
             ],
             [
              0.2222222222222222,
              "#7201a8"
             ],
             [
              0.3333333333333333,
              "#9c179e"
             ],
             [
              0.4444444444444444,
              "#bd3786"
             ],
             [
              0.5555555555555556,
              "#d8576b"
             ],
             [
              0.6666666666666666,
              "#ed7953"
             ],
             [
              0.7777777777777778,
              "#fb9f3a"
             ],
             [
              0.8888888888888888,
              "#fdca26"
             ],
             [
              1,
              "#f0f921"
             ]
            ],
            "type": "contour"
           }
          ],
          "contourcarpet": [
           {
            "colorbar": {
             "outlinewidth": 0,
             "ticks": ""
            },
            "type": "contourcarpet"
           }
          ],
          "heatmap": [
           {
            "colorbar": {
             "outlinewidth": 0,
             "ticks": ""
            },
            "colorscale": [
             [
              0,
              "#0d0887"
             ],
             [
              0.1111111111111111,
              "#46039f"
             ],
             [
              0.2222222222222222,
              "#7201a8"
             ],
             [
              0.3333333333333333,
              "#9c179e"
             ],
             [
              0.4444444444444444,
              "#bd3786"
             ],
             [
              0.5555555555555556,
              "#d8576b"
             ],
             [
              0.6666666666666666,
              "#ed7953"
             ],
             [
              0.7777777777777778,
              "#fb9f3a"
             ],
             [
              0.8888888888888888,
              "#fdca26"
             ],
             [
              1,
              "#f0f921"
             ]
            ],
            "type": "heatmap"
           }
          ],
          "heatmapgl": [
           {
            "colorbar": {
             "outlinewidth": 0,
             "ticks": ""
            },
            "colorscale": [
             [
              0,
              "#0d0887"
             ],
             [
              0.1111111111111111,
              "#46039f"
             ],
             [
              0.2222222222222222,
              "#7201a8"
             ],
             [
              0.3333333333333333,
              "#9c179e"
             ],
             [
              0.4444444444444444,
              "#bd3786"
             ],
             [
              0.5555555555555556,
              "#d8576b"
             ],
             [
              0.6666666666666666,
              "#ed7953"
             ],
             [
              0.7777777777777778,
              "#fb9f3a"
             ],
             [
              0.8888888888888888,
              "#fdca26"
             ],
             [
              1,
              "#f0f921"
             ]
            ],
            "type": "heatmapgl"
           }
          ],
          "histogram": [
           {
            "marker": {
             "pattern": {
              "fillmode": "overlay",
              "size": 10,
              "solidity": 0.2
             }
            },
            "type": "histogram"
           }
          ],
          "histogram2d": [
           {
            "colorbar": {
             "outlinewidth": 0,
             "ticks": ""
            },
            "colorscale": [
             [
              0,
              "#0d0887"
             ],
             [
              0.1111111111111111,
              "#46039f"
             ],
             [
              0.2222222222222222,
              "#7201a8"
             ],
             [
              0.3333333333333333,
              "#9c179e"
             ],
             [
              0.4444444444444444,
              "#bd3786"
             ],
             [
              0.5555555555555556,
              "#d8576b"
             ],
             [
              0.6666666666666666,
              "#ed7953"
             ],
             [
              0.7777777777777778,
              "#fb9f3a"
             ],
             [
              0.8888888888888888,
              "#fdca26"
             ],
             [
              1,
              "#f0f921"
             ]
            ],
            "type": "histogram2d"
           }
          ],
          "histogram2dcontour": [
           {
            "colorbar": {
             "outlinewidth": 0,
             "ticks": ""
            },
            "colorscale": [
             [
              0,
              "#0d0887"
             ],
             [
              0.1111111111111111,
              "#46039f"
             ],
             [
              0.2222222222222222,
              "#7201a8"
             ],
             [
              0.3333333333333333,
              "#9c179e"
             ],
             [
              0.4444444444444444,
              "#bd3786"
             ],
             [
              0.5555555555555556,
              "#d8576b"
             ],
             [
              0.6666666666666666,
              "#ed7953"
             ],
             [
              0.7777777777777778,
              "#fb9f3a"
             ],
             [
              0.8888888888888888,
              "#fdca26"
             ],
             [
              1,
              "#f0f921"
             ]
            ],
            "type": "histogram2dcontour"
           }
          ],
          "mesh3d": [
           {
            "colorbar": {
             "outlinewidth": 0,
             "ticks": ""
            },
            "type": "mesh3d"
           }
          ],
          "parcoords": [
           {
            "line": {
             "colorbar": {
              "outlinewidth": 0,
              "ticks": ""
             }
            },
            "type": "parcoords"
           }
          ],
          "pie": [
           {
            "automargin": true,
            "type": "pie"
           }
          ],
          "scatter": [
           {
            "fillpattern": {
             "fillmode": "overlay",
             "size": 10,
             "solidity": 0.2
            },
            "type": "scatter"
           }
          ],
          "scatter3d": [
           {
            "line": {
             "colorbar": {
              "outlinewidth": 0,
              "ticks": ""
             }
            },
            "marker": {
             "colorbar": {
              "outlinewidth": 0,
              "ticks": ""
             }
            },
            "type": "scatter3d"
           }
          ],
          "scattercarpet": [
           {
            "marker": {
             "colorbar": {
              "outlinewidth": 0,
              "ticks": ""
             }
            },
            "type": "scattercarpet"
           }
          ],
          "scattergeo": [
           {
            "marker": {
             "colorbar": {
              "outlinewidth": 0,
              "ticks": ""
             }
            },
            "type": "scattergeo"
           }
          ],
          "scattergl": [
           {
            "marker": {
             "colorbar": {
              "outlinewidth": 0,
              "ticks": ""
             }
            },
            "type": "scattergl"
           }
          ],
          "scattermapbox": [
           {
            "marker": {
             "colorbar": {
              "outlinewidth": 0,
              "ticks": ""
             }
            },
            "type": "scattermapbox"
           }
          ],
          "scatterpolar": [
           {
            "marker": {
             "colorbar": {
              "outlinewidth": 0,
              "ticks": ""
             }
            },
            "type": "scatterpolar"
           }
          ],
          "scatterpolargl": [
           {
            "marker": {
             "colorbar": {
              "outlinewidth": 0,
              "ticks": ""
             }
            },
            "type": "scatterpolargl"
           }
          ],
          "scatterternary": [
           {
            "marker": {
             "colorbar": {
              "outlinewidth": 0,
              "ticks": ""
             }
            },
            "type": "scatterternary"
           }
          ],
          "surface": [
           {
            "colorbar": {
             "outlinewidth": 0,
             "ticks": ""
            },
            "colorscale": [
             [
              0,
              "#0d0887"
             ],
             [
              0.1111111111111111,
              "#46039f"
             ],
             [
              0.2222222222222222,
              "#7201a8"
             ],
             [
              0.3333333333333333,
              "#9c179e"
             ],
             [
              0.4444444444444444,
              "#bd3786"
             ],
             [
              0.5555555555555556,
              "#d8576b"
             ],
             [
              0.6666666666666666,
              "#ed7953"
             ],
             [
              0.7777777777777778,
              "#fb9f3a"
             ],
             [
              0.8888888888888888,
              "#fdca26"
             ],
             [
              1,
              "#f0f921"
             ]
            ],
            "type": "surface"
           }
          ],
          "table": [
           {
            "cells": {
             "fill": {
              "color": "#EBF0F8"
             },
             "line": {
              "color": "white"
             }
            },
            "header": {
             "fill": {
              "color": "#C8D4E3"
             },
             "line": {
              "color": "white"
             }
            },
            "type": "table"
           }
          ]
         },
         "layout": {
          "annotationdefaults": {
           "arrowcolor": "#2a3f5f",
           "arrowhead": 0,
           "arrowwidth": 1
          },
          "autotypenumbers": "strict",
          "coloraxis": {
           "colorbar": {
            "outlinewidth": 0,
            "ticks": ""
           }
          },
          "colorscale": {
           "diverging": [
            [
             0,
             "#8e0152"
            ],
            [
             0.1,
             "#c51b7d"
            ],
            [
             0.2,
             "#de77ae"
            ],
            [
             0.3,
             "#f1b6da"
            ],
            [
             0.4,
             "#fde0ef"
            ],
            [
             0.5,
             "#f7f7f7"
            ],
            [
             0.6,
             "#e6f5d0"
            ],
            [
             0.7,
             "#b8e186"
            ],
            [
             0.8,
             "#7fbc41"
            ],
            [
             0.9,
             "#4d9221"
            ],
            [
             1,
             "#276419"
            ]
           ],
           "sequential": [
            [
             0,
             "#0d0887"
            ],
            [
             0.1111111111111111,
             "#46039f"
            ],
            [
             0.2222222222222222,
             "#7201a8"
            ],
            [
             0.3333333333333333,
             "#9c179e"
            ],
            [
             0.4444444444444444,
             "#bd3786"
            ],
            [
             0.5555555555555556,
             "#d8576b"
            ],
            [
             0.6666666666666666,
             "#ed7953"
            ],
            [
             0.7777777777777778,
             "#fb9f3a"
            ],
            [
             0.8888888888888888,
             "#fdca26"
            ],
            [
             1,
             "#f0f921"
            ]
           ],
           "sequentialminus": [
            [
             0,
             "#0d0887"
            ],
            [
             0.1111111111111111,
             "#46039f"
            ],
            [
             0.2222222222222222,
             "#7201a8"
            ],
            [
             0.3333333333333333,
             "#9c179e"
            ],
            [
             0.4444444444444444,
             "#bd3786"
            ],
            [
             0.5555555555555556,
             "#d8576b"
            ],
            [
             0.6666666666666666,
             "#ed7953"
            ],
            [
             0.7777777777777778,
             "#fb9f3a"
            ],
            [
             0.8888888888888888,
             "#fdca26"
            ],
            [
             1,
             "#f0f921"
            ]
           ]
          },
          "colorway": [
           "#636efa",
           "#EF553B",
           "#00cc96",
           "#ab63fa",
           "#FFA15A",
           "#19d3f3",
           "#FF6692",
           "#B6E880",
           "#FF97FF",
           "#FECB52"
          ],
          "font": {
           "color": "#2a3f5f"
          },
          "geo": {
           "bgcolor": "white",
           "lakecolor": "white",
           "landcolor": "#E5ECF6",
           "showlakes": true,
           "showland": true,
           "subunitcolor": "white"
          },
          "hoverlabel": {
           "align": "left"
          },
          "hovermode": "closest",
          "mapbox": {
           "style": "light"
          },
          "paper_bgcolor": "white",
          "plot_bgcolor": "#E5ECF6",
          "polar": {
           "angularaxis": {
            "gridcolor": "white",
            "linecolor": "white",
            "ticks": ""
           },
           "bgcolor": "#E5ECF6",
           "radialaxis": {
            "gridcolor": "white",
            "linecolor": "white",
            "ticks": ""
           }
          },
          "scene": {
           "xaxis": {
            "backgroundcolor": "#E5ECF6",
            "gridcolor": "white",
            "gridwidth": 2,
            "linecolor": "white",
            "showbackground": true,
            "ticks": "",
            "zerolinecolor": "white"
           },
           "yaxis": {
            "backgroundcolor": "#E5ECF6",
            "gridcolor": "white",
            "gridwidth": 2,
            "linecolor": "white",
            "showbackground": true,
            "ticks": "",
            "zerolinecolor": "white"
           },
           "zaxis": {
            "backgroundcolor": "#E5ECF6",
            "gridcolor": "white",
            "gridwidth": 2,
            "linecolor": "white",
            "showbackground": true,
            "ticks": "",
            "zerolinecolor": "white"
           }
          },
          "shapedefaults": {
           "line": {
            "color": "#2a3f5f"
           }
          },
          "ternary": {
           "aaxis": {
            "gridcolor": "white",
            "linecolor": "white",
            "ticks": ""
           },
           "baxis": {
            "gridcolor": "white",
            "linecolor": "white",
            "ticks": ""
           },
           "bgcolor": "#E5ECF6",
           "caxis": {
            "gridcolor": "white",
            "linecolor": "white",
            "ticks": ""
           }
          },
          "title": {
           "x": 0.05
          },
          "xaxis": {
           "automargin": true,
           "gridcolor": "white",
           "linecolor": "white",
           "ticks": "",
           "title": {
            "standoff": 15
           },
           "zerolinecolor": "white",
           "zerolinewidth": 2
          },
          "yaxis": {
           "automargin": true,
           "gridcolor": "white",
           "linecolor": "white",
           "ticks": "",
           "title": {
            "standoff": 15
           },
           "zerolinecolor": "white",
           "zerolinewidth": 2
          }
         }
        },
        "title": {
         "text": "Accuracy vs Number of Epochs",
         "x": 0.5,
         "xanchor": "center",
         "y": 0.94,
         "yanchor": "top"
        },
        "xaxis": {
         "anchor": "y",
         "domain": [
          0,
          1
         ],
         "title": {
          "text": "Number of Epochs"
         }
        },
        "yaxis": {
         "anchor": "x",
         "domain": [
          0,
          1
         ],
         "title": {
          "text": "Accuracy"
         }
        }
       }
      }
     },
     "metadata": {},
     "output_type": "display_data"
    },
    {
     "data": {
      "application/vnd.plotly.v1+json": {
       "config": {
        "plotlyServerURL": "https://plot.ly"
       },
       "data": [
        {
         "hovertemplate": "variable=loss<br>index=%{x}<br>value=%{y}<extra></extra>",
         "legendgroup": "loss",
         "line": {
          "color": "#636efa",
          "dash": "solid"
         },
         "marker": {
          "symbol": "circle"
         },
         "mode": "lines+markers",
         "name": "loss",
         "orientation": "v",
         "showlegend": true,
         "type": "scatter",
         "x": [
          0,
          1,
          2,
          3,
          4,
          5,
          6,
          7,
          8,
          9,
          10,
          11,
          12,
          13,
          14,
          15,
          16,
          17,
          18,
          19,
          20,
          21,
          22,
          23,
          24,
          25,
          26,
          27,
          28,
          29,
          30,
          31,
          32,
          33,
          34,
          35,
          36
         ],
         "xaxis": "x",
         "y": [
          11.42529582977295,
          4.094137191772461,
          2.4376206398010254,
          1.9682631492614746,
          1.8948101997375488,
          1.845960259437561,
          1.782548189163208,
          1.7548480033874512,
          1.7653170824050903,
          1.7704005241394043,
          1.6895766258239746,
          1.5972992181777954,
          1.5094597339630127,
          1.4891024827957153,
          1.44606351852417,
          1.4270535707473755,
          1.3447198867797852,
          1.2723438739776611,
          1.2402839660644531,
          1.215666651725769,
          1.2000850439071655,
          1.182698130607605,
          1.1747257709503174,
          1.1579753160476685,
          1.149029016494751,
          1.1452414989471436,
          1.1294097900390625,
          1.1223963499069214,
          1.1144508123397827,
          1.1064823865890503,
          1.0997675657272339,
          1.0953680276870728,
          1.0916353464126587,
          1.0772581100463867,
          1.0762187242507935,
          1.072726845741272,
          1.0707272291183472
         ],
         "yaxis": "y"
        },
        {
         "hovertemplate": "variable=val_loss<br>index=%{x}<br>value=%{y}<extra></extra>",
         "legendgroup": "val_loss",
         "line": {
          "color": "#EF553B",
          "dash": "solid"
         },
         "marker": {
          "symbol": "circle"
         },
         "mode": "lines+markers",
         "name": "val_loss",
         "orientation": "v",
         "showlegend": true,
         "type": "scatter",
         "x": [
          0,
          1,
          2,
          3,
          4,
          5,
          6,
          7,
          8,
          9,
          10,
          11,
          12,
          13,
          14,
          15,
          16,
          17,
          18,
          19,
          20,
          21,
          22,
          23,
          24,
          25,
          26,
          27,
          28,
          29,
          30,
          31,
          32,
          33,
          34,
          35,
          36
         ],
         "xaxis": "x",
         "y": [
          6.195659637451172,
          3.182039499282837,
          2.474350929260254,
          2.1707286834716797,
          2.298891544342041,
          2.0047006607055664,
          1.8827778100967407,
          1.8812148571014404,
          2.3350229263305664,
          2.105067491531372,
          1.8437881469726562,
          6.3108811378479,
          1.5890790224075317,
          1.5498871803283691,
          1.5148378610610962,
          1.4414089918136597,
          1.3238502740859985,
          1.2469457387924194,
          1.2509313821792603,
          1.2246638536453247,
          1.2141194343566895,
          1.223259449005127,
          1.19081711769104,
          1.1954489946365356,
          1.1990748643875122,
          1.1971986293792725,
          1.2225446701049805,
          1.18001127243042,
          1.2083359956741333,
          1.163340449333191,
          1.1802445650100708,
          1.1510156393051147,
          1.1537235975265503,
          1.1685205698013306,
          1.2081615924835205,
          1.1893205642700195,
          1.1948293447494507
         ],
         "yaxis": "y"
        }
       ],
       "layout": {
        "legend": {
         "title": {
          "text": "variable"
         },
         "tracegroupgap": 0
        },
        "margin": {
         "t": 60
        },
        "showlegend": true,
        "template": {
         "data": {
          "bar": [
           {
            "error_x": {
             "color": "#2a3f5f"
            },
            "error_y": {
             "color": "#2a3f5f"
            },
            "marker": {
             "line": {
              "color": "#E5ECF6",
              "width": 0.5
             },
             "pattern": {
              "fillmode": "overlay",
              "size": 10,
              "solidity": 0.2
             }
            },
            "type": "bar"
           }
          ],
          "barpolar": [
           {
            "marker": {
             "line": {
              "color": "#E5ECF6",
              "width": 0.5
             },
             "pattern": {
              "fillmode": "overlay",
              "size": 10,
              "solidity": 0.2
             }
            },
            "type": "barpolar"
           }
          ],
          "carpet": [
           {
            "aaxis": {
             "endlinecolor": "#2a3f5f",
             "gridcolor": "white",
             "linecolor": "white",
             "minorgridcolor": "white",
             "startlinecolor": "#2a3f5f"
            },
            "baxis": {
             "endlinecolor": "#2a3f5f",
             "gridcolor": "white",
             "linecolor": "white",
             "minorgridcolor": "white",
             "startlinecolor": "#2a3f5f"
            },
            "type": "carpet"
           }
          ],
          "choropleth": [
           {
            "colorbar": {
             "outlinewidth": 0,
             "ticks": ""
            },
            "type": "choropleth"
           }
          ],
          "contour": [
           {
            "colorbar": {
             "outlinewidth": 0,
             "ticks": ""
            },
            "colorscale": [
             [
              0,
              "#0d0887"
             ],
             [
              0.1111111111111111,
              "#46039f"
             ],
             [
              0.2222222222222222,
              "#7201a8"
             ],
             [
              0.3333333333333333,
              "#9c179e"
             ],
             [
              0.4444444444444444,
              "#bd3786"
             ],
             [
              0.5555555555555556,
              "#d8576b"
             ],
             [
              0.6666666666666666,
              "#ed7953"
             ],
             [
              0.7777777777777778,
              "#fb9f3a"
             ],
             [
              0.8888888888888888,
              "#fdca26"
             ],
             [
              1,
              "#f0f921"
             ]
            ],
            "type": "contour"
           }
          ],
          "contourcarpet": [
           {
            "colorbar": {
             "outlinewidth": 0,
             "ticks": ""
            },
            "type": "contourcarpet"
           }
          ],
          "heatmap": [
           {
            "colorbar": {
             "outlinewidth": 0,
             "ticks": ""
            },
            "colorscale": [
             [
              0,
              "#0d0887"
             ],
             [
              0.1111111111111111,
              "#46039f"
             ],
             [
              0.2222222222222222,
              "#7201a8"
             ],
             [
              0.3333333333333333,
              "#9c179e"
             ],
             [
              0.4444444444444444,
              "#bd3786"
             ],
             [
              0.5555555555555556,
              "#d8576b"
             ],
             [
              0.6666666666666666,
              "#ed7953"
             ],
             [
              0.7777777777777778,
              "#fb9f3a"
             ],
             [
              0.8888888888888888,
              "#fdca26"
             ],
             [
              1,
              "#f0f921"
             ]
            ],
            "type": "heatmap"
           }
          ],
          "heatmapgl": [
           {
            "colorbar": {
             "outlinewidth": 0,
             "ticks": ""
            },
            "colorscale": [
             [
              0,
              "#0d0887"
             ],
             [
              0.1111111111111111,
              "#46039f"
             ],
             [
              0.2222222222222222,
              "#7201a8"
             ],
             [
              0.3333333333333333,
              "#9c179e"
             ],
             [
              0.4444444444444444,
              "#bd3786"
             ],
             [
              0.5555555555555556,
              "#d8576b"
             ],
             [
              0.6666666666666666,
              "#ed7953"
             ],
             [
              0.7777777777777778,
              "#fb9f3a"
             ],
             [
              0.8888888888888888,
              "#fdca26"
             ],
             [
              1,
              "#f0f921"
             ]
            ],
            "type": "heatmapgl"
           }
          ],
          "histogram": [
           {
            "marker": {
             "pattern": {
              "fillmode": "overlay",
              "size": 10,
              "solidity": 0.2
             }
            },
            "type": "histogram"
           }
          ],
          "histogram2d": [
           {
            "colorbar": {
             "outlinewidth": 0,
             "ticks": ""
            },
            "colorscale": [
             [
              0,
              "#0d0887"
             ],
             [
              0.1111111111111111,
              "#46039f"
             ],
             [
              0.2222222222222222,
              "#7201a8"
             ],
             [
              0.3333333333333333,
              "#9c179e"
             ],
             [
              0.4444444444444444,
              "#bd3786"
             ],
             [
              0.5555555555555556,
              "#d8576b"
             ],
             [
              0.6666666666666666,
              "#ed7953"
             ],
             [
              0.7777777777777778,
              "#fb9f3a"
             ],
             [
              0.8888888888888888,
              "#fdca26"
             ],
             [
              1,
              "#f0f921"
             ]
            ],
            "type": "histogram2d"
           }
          ],
          "histogram2dcontour": [
           {
            "colorbar": {
             "outlinewidth": 0,
             "ticks": ""
            },
            "colorscale": [
             [
              0,
              "#0d0887"
             ],
             [
              0.1111111111111111,
              "#46039f"
             ],
             [
              0.2222222222222222,
              "#7201a8"
             ],
             [
              0.3333333333333333,
              "#9c179e"
             ],
             [
              0.4444444444444444,
              "#bd3786"
             ],
             [
              0.5555555555555556,
              "#d8576b"
             ],
             [
              0.6666666666666666,
              "#ed7953"
             ],
             [
              0.7777777777777778,
              "#fb9f3a"
             ],
             [
              0.8888888888888888,
              "#fdca26"
             ],
             [
              1,
              "#f0f921"
             ]
            ],
            "type": "histogram2dcontour"
           }
          ],
          "mesh3d": [
           {
            "colorbar": {
             "outlinewidth": 0,
             "ticks": ""
            },
            "type": "mesh3d"
           }
          ],
          "parcoords": [
           {
            "line": {
             "colorbar": {
              "outlinewidth": 0,
              "ticks": ""
             }
            },
            "type": "parcoords"
           }
          ],
          "pie": [
           {
            "automargin": true,
            "type": "pie"
           }
          ],
          "scatter": [
           {
            "fillpattern": {
             "fillmode": "overlay",
             "size": 10,
             "solidity": 0.2
            },
            "type": "scatter"
           }
          ],
          "scatter3d": [
           {
            "line": {
             "colorbar": {
              "outlinewidth": 0,
              "ticks": ""
             }
            },
            "marker": {
             "colorbar": {
              "outlinewidth": 0,
              "ticks": ""
             }
            },
            "type": "scatter3d"
           }
          ],
          "scattercarpet": [
           {
            "marker": {
             "colorbar": {
              "outlinewidth": 0,
              "ticks": ""
             }
            },
            "type": "scattercarpet"
           }
          ],
          "scattergeo": [
           {
            "marker": {
             "colorbar": {
              "outlinewidth": 0,
              "ticks": ""
             }
            },
            "type": "scattergeo"
           }
          ],
          "scattergl": [
           {
            "marker": {
             "colorbar": {
              "outlinewidth": 0,
              "ticks": ""
             }
            },
            "type": "scattergl"
           }
          ],
          "scattermapbox": [
           {
            "marker": {
             "colorbar": {
              "outlinewidth": 0,
              "ticks": ""
             }
            },
            "type": "scattermapbox"
           }
          ],
          "scatterpolar": [
           {
            "marker": {
             "colorbar": {
              "outlinewidth": 0,
              "ticks": ""
             }
            },
            "type": "scatterpolar"
           }
          ],
          "scatterpolargl": [
           {
            "marker": {
             "colorbar": {
              "outlinewidth": 0,
              "ticks": ""
             }
            },
            "type": "scatterpolargl"
           }
          ],
          "scatterternary": [
           {
            "marker": {
             "colorbar": {
              "outlinewidth": 0,
              "ticks": ""
             }
            },
            "type": "scatterternary"
           }
          ],
          "surface": [
           {
            "colorbar": {
             "outlinewidth": 0,
             "ticks": ""
            },
            "colorscale": [
             [
              0,
              "#0d0887"
             ],
             [
              0.1111111111111111,
              "#46039f"
             ],
             [
              0.2222222222222222,
              "#7201a8"
             ],
             [
              0.3333333333333333,
              "#9c179e"
             ],
             [
              0.4444444444444444,
              "#bd3786"
             ],
             [
              0.5555555555555556,
              "#d8576b"
             ],
             [
              0.6666666666666666,
              "#ed7953"
             ],
             [
              0.7777777777777778,
              "#fb9f3a"
             ],
             [
              0.8888888888888888,
              "#fdca26"
             ],
             [
              1,
              "#f0f921"
             ]
            ],
            "type": "surface"
           }
          ],
          "table": [
           {
            "cells": {
             "fill": {
              "color": "#EBF0F8"
             },
             "line": {
              "color": "white"
             }
            },
            "header": {
             "fill": {
              "color": "#C8D4E3"
             },
             "line": {
              "color": "white"
             }
            },
            "type": "table"
           }
          ]
         },
         "layout": {
          "annotationdefaults": {
           "arrowcolor": "#2a3f5f",
           "arrowhead": 0,
           "arrowwidth": 1
          },
          "autotypenumbers": "strict",
          "coloraxis": {
           "colorbar": {
            "outlinewidth": 0,
            "ticks": ""
           }
          },
          "colorscale": {
           "diverging": [
            [
             0,
             "#8e0152"
            ],
            [
             0.1,
             "#c51b7d"
            ],
            [
             0.2,
             "#de77ae"
            ],
            [
             0.3,
             "#f1b6da"
            ],
            [
             0.4,
             "#fde0ef"
            ],
            [
             0.5,
             "#f7f7f7"
            ],
            [
             0.6,
             "#e6f5d0"
            ],
            [
             0.7,
             "#b8e186"
            ],
            [
             0.8,
             "#7fbc41"
            ],
            [
             0.9,
             "#4d9221"
            ],
            [
             1,
             "#276419"
            ]
           ],
           "sequential": [
            [
             0,
             "#0d0887"
            ],
            [
             0.1111111111111111,
             "#46039f"
            ],
            [
             0.2222222222222222,
             "#7201a8"
            ],
            [
             0.3333333333333333,
             "#9c179e"
            ],
            [
             0.4444444444444444,
             "#bd3786"
            ],
            [
             0.5555555555555556,
             "#d8576b"
            ],
            [
             0.6666666666666666,
             "#ed7953"
            ],
            [
             0.7777777777777778,
             "#fb9f3a"
            ],
            [
             0.8888888888888888,
             "#fdca26"
            ],
            [
             1,
             "#f0f921"
            ]
           ],
           "sequentialminus": [
            [
             0,
             "#0d0887"
            ],
            [
             0.1111111111111111,
             "#46039f"
            ],
            [
             0.2222222222222222,
             "#7201a8"
            ],
            [
             0.3333333333333333,
             "#9c179e"
            ],
            [
             0.4444444444444444,
             "#bd3786"
            ],
            [
             0.5555555555555556,
             "#d8576b"
            ],
            [
             0.6666666666666666,
             "#ed7953"
            ],
            [
             0.7777777777777778,
             "#fb9f3a"
            ],
            [
             0.8888888888888888,
             "#fdca26"
            ],
            [
             1,
             "#f0f921"
            ]
           ]
          },
          "colorway": [
           "#636efa",
           "#EF553B",
           "#00cc96",
           "#ab63fa",
           "#FFA15A",
           "#19d3f3",
           "#FF6692",
           "#B6E880",
           "#FF97FF",
           "#FECB52"
          ],
          "font": {
           "color": "#2a3f5f"
          },
          "geo": {
           "bgcolor": "white",
           "lakecolor": "white",
           "landcolor": "#E5ECF6",
           "showlakes": true,
           "showland": true,
           "subunitcolor": "white"
          },
          "hoverlabel": {
           "align": "left"
          },
          "hovermode": "closest",
          "mapbox": {
           "style": "light"
          },
          "paper_bgcolor": "white",
          "plot_bgcolor": "#E5ECF6",
          "polar": {
           "angularaxis": {
            "gridcolor": "white",
            "linecolor": "white",
            "ticks": ""
           },
           "bgcolor": "#E5ECF6",
           "radialaxis": {
            "gridcolor": "white",
            "linecolor": "white",
            "ticks": ""
           }
          },
          "scene": {
           "xaxis": {
            "backgroundcolor": "#E5ECF6",
            "gridcolor": "white",
            "gridwidth": 2,
            "linecolor": "white",
            "showbackground": true,
            "ticks": "",
            "zerolinecolor": "white"
           },
           "yaxis": {
            "backgroundcolor": "#E5ECF6",
            "gridcolor": "white",
            "gridwidth": 2,
            "linecolor": "white",
            "showbackground": true,
            "ticks": "",
            "zerolinecolor": "white"
           },
           "zaxis": {
            "backgroundcolor": "#E5ECF6",
            "gridcolor": "white",
            "gridwidth": 2,
            "linecolor": "white",
            "showbackground": true,
            "ticks": "",
            "zerolinecolor": "white"
           }
          },
          "shapedefaults": {
           "line": {
            "color": "#2a3f5f"
           }
          },
          "ternary": {
           "aaxis": {
            "gridcolor": "white",
            "linecolor": "white",
            "ticks": ""
           },
           "baxis": {
            "gridcolor": "white",
            "linecolor": "white",
            "ticks": ""
           },
           "bgcolor": "#E5ECF6",
           "caxis": {
            "gridcolor": "white",
            "linecolor": "white",
            "ticks": ""
           }
          },
          "title": {
           "x": 0.05
          },
          "xaxis": {
           "automargin": true,
           "gridcolor": "white",
           "linecolor": "white",
           "ticks": "",
           "title": {
            "standoff": 15
           },
           "zerolinecolor": "white",
           "zerolinewidth": 2
          },
          "yaxis": {
           "automargin": true,
           "gridcolor": "white",
           "linecolor": "white",
           "ticks": "",
           "title": {
            "standoff": 15
           },
           "zerolinecolor": "white",
           "zerolinewidth": 2
          }
         }
        },
        "title": {
         "text": "Loss vs Number of Epochs",
         "x": 0.5,
         "xanchor": "center",
         "y": 0.94,
         "yanchor": "top"
        },
        "xaxis": {
         "anchor": "y",
         "domain": [
          0,
          1
         ],
         "title": {
          "text": "Number of Epochs"
         }
        },
        "yaxis": {
         "anchor": "x",
         "domain": [
          0,
          1
         ],
         "title": {
          "text": "Loss"
         }
        }
       }
      }
     },
     "metadata": {},
     "output_type": "display_data"
    }
   ],
   "source": [
    "# Converting the history object to a pandas DataFrame\n",
    "hist = pd.DataFrame(history.history)\n",
    "\n",
    "# Plotting training and validation accuracy\n",
    "fig = px.line(data_frame=hist, y=[\"accuracy\", \"val_accuracy\"], markers=True)\n",
    "fig.update_xaxes(title=\"Number of Epochs\")\n",
    "fig.update_yaxes(title=\"Accuracy\")\n",
    "fig.update_layout(showlegend=True, title={'text': 'Accuracy vs Number of Epochs', 'y': 0.94, 'x': 0.5, 'xanchor': 'center', 'yanchor': 'top'})\n",
    "fig.show()\n",
    "\n",
    "# Plotting training and validation loss\n",
    "fig = px.line(data_frame=hist, y=[\"loss\", \"val_loss\"], markers=True)\n",
    "fig.update_xaxes(title=\"Number of Epochs\")\n",
    "fig.update_yaxes(title=\"Loss\")\n",
    "fig.update_layout(showlegend=True, title={'text': 'Loss vs Number of Epochs', 'y': 0.94, 'x': 0.5, 'xanchor': 'center', 'yanchor': 'top'})\n",
    "fig.show()"
   ]
  },
  {
   "cell_type": "markdown",
   "metadata": {},
   "source": [
    "Evaluating the Model"
   ]
  },
  {
   "cell_type": "code",
   "execution_count": 91,
   "metadata": {},
   "outputs": [
    {
     "name": "stdout",
     "output_type": "stream",
     "text": [
      "113/113 [==============================] - 0s 1ms/step\n"
     ]
    },
    {
     "data": {
      "image/png": "[encoded data removed]",
      "text/plain": [
       "<Figure size 1000x700 with 2 Axes>"
      ]
     },
     "metadata": {},
     "output_type": "display_data"
    },
    {
     "name": "stdout",
     "output_type": "stream",
     "text": [
      "              precision    recall  f1-score   support\n",
      "\n",
      "           0       0.52      0.53      0.52       467\n",
      "           1       0.65      0.23      0.34        56\n",
      "           2       0.44      0.33      0.38       496\n",
      "           3       0.85      0.81      0.83       895\n",
      "           4       0.48      0.54      0.51       653\n",
      "           5       0.73      0.79      0.76       415\n",
      "           6       0.53      0.61      0.57       607\n",
      "\n",
      "    accuracy                           0.61      3589\n",
      "   macro avg       0.60      0.55      0.56      3589\n",
      "weighted avg       0.61      0.61      0.61      3589\n",
      "\n"
     ]
    }
   ],
   "source": [
    "# Predicting probabilities for the public test set\n",
    "predictions_prob = model_1.predict(public_pixels)\n",
    "\n",
    "# Converting probabilities to class indices\n",
    "predictions = np.argmax(predictions_prob, axis=1)\n",
    "\n",
    "# Converting one-hot encoded labels to class indices\n",
    "true_labels = np.argmax(public_labels, axis=1)\n",
    "\n",
    "# Computing the confusion matrix\n",
    "cm = confusion_matrix(true_labels, predictions)\n",
    "\n",
    "# Plotting the confusion matrix\n",
    "plt.figure(figsize=(10, 7))\n",
    "sns.heatmap(cm, annot=True, fmt='d', cmap='Blues', xticklabels=[0, 1, 2, 3, 4, 5, 6], yticklabels=[0, 1, 2, 3, 4, 5, 6])\n",
    "plt.title('Confusion Matrix')\n",
    "plt.ylabel('Actual Classes')\n",
    "plt.xlabel('Predicted Classes')\n",
    "plt.show()\n",
    "\n",
    "# Printing the classification report\n",
    "print(classification_report(true_labels, predictions))"
   ]
  },
  {
   "cell_type": "markdown",
   "metadata": {},
   "source": [
    "Making Predictions"
   ]
  },
  {
   "cell_type": "code",
   "execution_count": 92,
   "metadata": {},
   "outputs": [
    {
     "name": "stdout",
     "output_type": "stream",
     "text": [
      "1/1 [==============================] - 0s 11ms/step\n",
      "Prediction (probability distribution over classes): [[0.28569567 0.00647463 0.23843642 0.01831992 0.33307132 0.00787895\n",
      "  0.11012313]]\n",
      "Predicted class: [4]\n"
     ]
    }
   ],
   "source": [
    "# Predicting a single instance from the public test set\n",
    "instance = public_pixels[0]\n",
    "instance = np.expand_dims(instance, axis=0)\n",
    "prediction = model_1.predict(instance)\n",
    "\n",
    "# Displaying the prediction\n",
    "print(\"Prediction (probability distribution over classes):\", prediction)\n",
    "predicted_class = np.argmax(prediction, axis=1)\n",
    "print(\"Predicted class:\", predicted_class)"
   ]
  },
  {
   "cell_type": "markdown",
   "metadata": {},
   "source": [
    "Saving the Model"
   ]
  },
  {
   "cell_type": "code",
   "execution_count": 93,
   "metadata": {},
   "outputs": [],
   "source": [
    "# Saving the model to a file\n",
    "model_1.save('model/andres_model.keras')"
   ]
  },
  {
   "cell_type": "code",
   "execution_count": 94,
   "metadata": {},
   "outputs": [],
   "source": [
    "# Function to process a new image for prediction\n",
    "def process_image(image_path):\n",
    "    # Load the image with target size of 48x48\n",
    "    img = image.load_img(image_path, target_size=(48, 48), color_mode='grayscale')\n",
    "    \n",
    "    # Convert the image to a numpy array\n",
    "    img_array = image.img_to_array(img)\n",
    "    \n",
    "    # Normalize the image array\n",
    "    img_array /= 255.0\n",
    "    \n",
    "    # Add a batch dimension\n",
    "    img_array = np.expand_dims(img_array, axis=0)\n",
    "    \n",
    "    return img_array"
   ]
  },
  {
   "cell_type": "code",
   "execution_count": null,
   "metadata": {},
   "outputs": [],
   "source": []
  }
 ],
 "metadata": {
  "kernelspec": {
   "display_name": "myenv",
   "language": "python",
   "name": "python3"
  },
  "language_info": {
   "codemirror_mode": {
    "name": "ipython",
    "version": 3
   },
   "file_extension": ".py",
   "mimetype": "text/x-python",
   "name": "python",
   "nbconvert_exporter": "python",
   "pygments_lexer": "ipython3",
   "version": "3.10.11"
  }
 },
 "nbformat": 4,
 "nbformat_minor": 2
}
